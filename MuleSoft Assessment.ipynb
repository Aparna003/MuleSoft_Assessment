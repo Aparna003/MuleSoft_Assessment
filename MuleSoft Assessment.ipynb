{
 "cells": [
  {
   "cell_type": "markdown",
   "id": "5b89ecc2",
   "metadata": {},
   "source": [
    "## SQLite Database Management"
   ]
  },
  {
   "cell_type": "markdown",
   "id": "488039e7",
   "metadata": {},
   "source": [
    "Create a database, store your interesting movie names with the names of lead actor, actress, year of release and the director name. Once you have stored the details, then use any programming language of your choice to retrieve the details."
   ]
  },
  {
   "cell_type": "markdown",
   "id": "4ad49588",
   "metadata": {},
   "source": [
    "#### Importing required libraries"
   ]
  },
  {
   "cell_type": "code",
   "execution_count": 40,
   "id": "195438c3",
   "metadata": {},
   "outputs": [],
   "source": [
    "import sqlite3 as sql\n",
    "import pandas as pd"
   ]
  },
  {
   "cell_type": "markdown",
   "id": "aa8353d6",
   "metadata": {},
   "source": [
    "#### Creating new SQLite database"
   ]
  },
  {
   "cell_type": "code",
   "execution_count": 41,
   "id": "e008eceb",
   "metadata": {},
   "outputs": [],
   "source": [
    "connection=sql.connect('movie_database.db')\n",
    "cursor=connection.cursor()"
   ]
  },
  {
   "cell_type": "code",
   "execution_count": 42,
   "id": "e5d261e6",
   "metadata": {},
   "outputs": [
    {
     "data": {
      "text/plain": [
       "<sqlite3.Cursor at 0x2e8846dd180>"
      ]
     },
     "execution_count": 42,
     "metadata": {},
     "output_type": "execute_result"
    }
   ],
   "source": [
    "cursor.execute(\"DROP TABLE IF EXISTS movies_database\")"
   ]
  },
  {
   "cell_type": "markdown",
   "id": "4f96dbcd",
   "metadata": {},
   "source": [
    "#### Creating new table - movies"
   ]
  },
  {
   "cell_type": "code",
   "execution_count": 52,
   "id": "f616bdea",
   "metadata": {},
   "outputs": [],
   "source": [
    "table = \"\"\" CREATE TABLE movies(\n",
    "            movieName VARCHAR(50) NOT NULL,\n",
    "            actorName CHAR(25) NOT NULL,\n",
    "            actressName CHAR(25),\n",
    "            yearOfRelease INT NOT NULL,\n",
    "            directorName CHAR(25) NOT NULL\n",
    "            );\"\"\""
   ]
  },
  {
   "cell_type": "code",
   "execution_count": null,
   "id": "2c0d1b81",
   "metadata": {},
   "outputs": [],
   "source": [
    "cursor.execute(table)"
   ]
  },
  {
   "cell_type": "code",
   "execution_count": 54,
   "id": "65c6538a",
   "metadata": {},
   "outputs": [
    {
     "data": {
      "text/html": [
       "<div>\n",
       "<style scoped>\n",
       "    .dataframe tbody tr th:only-of-type {\n",
       "        vertical-align: middle;\n",
       "    }\n",
       "\n",
       "    .dataframe tbody tr th {\n",
       "        vertical-align: top;\n",
       "    }\n",
       "\n",
       "    .dataframe thead th {\n",
       "        text-align: right;\n",
       "    }\n",
       "</style>\n",
       "<table border=\"1\" class=\"dataframe\">\n",
       "  <thead>\n",
       "    <tr style=\"text-align: right;\">\n",
       "      <th></th>\n",
       "      <th>movieName</th>\n",
       "      <th>actorName</th>\n",
       "      <th>actressName</th>\n",
       "      <th>yearOfRelease</th>\n",
       "      <th>directorName</th>\n",
       "    </tr>\n",
       "  </thead>\n",
       "  <tbody>\n",
       "  </tbody>\n",
       "</table>\n",
       "</div>"
      ],
      "text/plain": [
       "Empty DataFrame\n",
       "Columns: [movieName, actorName, actressName, yearOfRelease, directorName]\n",
       "Index: []"
      ]
     },
     "execution_count": 54,
     "metadata": {},
     "output_type": "execute_result"
    }
   ],
   "source": [
    "query = ''' SELECT * FROM movies'''\n",
    "df = pd.read_sql_query(query, connection)\n",
    "df"
   ]
  },
  {
   "cell_type": "markdown",
   "id": "3f701a99",
   "metadata": {},
   "source": [
    "#### Inserting data into movies table"
   ]
  },
  {
   "cell_type": "code",
   "execution_count": null,
   "id": "7f7635a1",
   "metadata": {},
   "outputs": [
    {
     "data": {
      "text/plain": [
       "<sqlite3.Cursor at 0x2e884677960>"
      ]
     },
     "execution_count": 21,
     "metadata": {},
     "output_type": "execute_result"
    }
   ],
   "source": [
    "cursor.execute('''INSERT INTO movies VALUES ('The Space Between Us', 'Asa Butterfield', 'Britt Robertson', '2017','Peter Chelsom')''')\n",
    "cursor.execute('''INSERT INTO movies VALUES ('Moonshot', 'Cole Sprouse', 'Lana Condor', '2022','Christopher Winterbauer')''')\n",
    "cursor.execute('''INSERT INTO movies VALUES ('Vikram', 'Kamal Hassan, Fahad Fasil, Vijay Sethupathi', '', '2022','Lokesh Kanagaraj')''')\n",
    "cursor.execute('''INSERT INTO movies VALUES ('Chemical Hearts', 'Austin Abrams', 'Lilli Reinhart', '2020','Richard Tanne')''')\n",
    "cursor.execute('''INSERT INTO movies VALUES ('Black Panther','Chadwick Boseman','','2018','Ryan Coogler')''')\n",
    "cursor.execute('''INSERT INTO movies VALUES ('The Maze Runner', 'Dylan OBrien,Will Poutler,Thomas Brodie-Sangster','Patricia Clarkson', '2014','Wes Ball')''')\n",
    "cursor.execute('''INSERT INTO movies VALUES ('To All The Bright Places', 'Justice Smith', 'Elle Fanning', '2020','Brett Haley')''')\n",
    "cursor.execute('''INSERT INTO movies VALUES ('Marvel- Spider Man No Way Home', 'Tom Holland', 'Zendaya', '2021 ','Jon Watts')''')\n",
    "cursor.execute('''INSERT INTO movies VALUES ('Marvel- Shang-Chi and The Legend of The Ten Rings', 'Simu Liu', 'Awkwafina', '2021',' Destin Daniel Cretton')''')\n",
    "cursor.execute('''INSERT INTO movies VALUES ('Red Notice', 'Ryan Reynolds, Dwayne Johnson', 'Gal Gadot', '2021',' Rawson Marshall Thurber')''')"
   ]
  },
  {
   "cell_type": "markdown",
   "id": "cd83ad0f",
   "metadata": {},
   "source": [
    "#### Displaying the table after inserting the values"
   ]
  },
  {
   "cell_type": "code",
   "execution_count": null,
   "id": "07b07277",
   "metadata": {},
   "outputs": [
    {
     "data": {
      "text/html": [
       "<div>\n",
       "<style scoped>\n",
       "    .dataframe tbody tr th:only-of-type {\n",
       "        vertical-align: middle;\n",
       "    }\n",
       "\n",
       "    .dataframe tbody tr th {\n",
       "        vertical-align: top;\n",
       "    }\n",
       "\n",
       "    .dataframe thead th {\n",
       "        text-align: right;\n",
       "    }\n",
       "</style>\n",
       "<table border=\"1\" class=\"dataframe\">\n",
       "  <thead>\n",
       "    <tr style=\"text-align: right;\">\n",
       "      <th></th>\n",
       "      <th>movieName</th>\n",
       "      <th>actorName</th>\n",
       "      <th>actressName</th>\n",
       "      <th>yearOfRelease</th>\n",
       "      <th>directorName</th>\n",
       "    </tr>\n",
       "  </thead>\n",
       "  <tbody>\n",
       "    <tr>\n",
       "      <th>0</th>\n",
       "      <td>The Space Between Us</td>\n",
       "      <td>Asa Butterfield</td>\n",
       "      <td>Britt Robertson</td>\n",
       "      <td>2017</td>\n",
       "      <td>Peter Chelsom</td>\n",
       "    </tr>\n",
       "    <tr>\n",
       "      <th>1</th>\n",
       "      <td>Moonshot</td>\n",
       "      <td>Cole Sprouse</td>\n",
       "      <td>Lana Condor</td>\n",
       "      <td>2022</td>\n",
       "      <td>Christopher Winterbauer</td>\n",
       "    </tr>\n",
       "    <tr>\n",
       "      <th>2</th>\n",
       "      <td>Vikram</td>\n",
       "      <td>Kamal Hassan, Fahad Fasil, Vijay Sethupathi</td>\n",
       "      <td></td>\n",
       "      <td>2022</td>\n",
       "      <td>Lokesh Kanagaraj</td>\n",
       "    </tr>\n",
       "    <tr>\n",
       "      <th>3</th>\n",
       "      <td>Chemical Hearts</td>\n",
       "      <td>Austin Abrams</td>\n",
       "      <td>Lilli Reinhart</td>\n",
       "      <td>2020</td>\n",
       "      <td>Richard Tanne</td>\n",
       "    </tr>\n",
       "    <tr>\n",
       "      <th>4</th>\n",
       "      <td>Black Panther</td>\n",
       "      <td>Chadwick Boseman</td>\n",
       "      <td></td>\n",
       "      <td>2018</td>\n",
       "      <td>Ryan Coogler</td>\n",
       "    </tr>\n",
       "    <tr>\n",
       "      <th>5</th>\n",
       "      <td>The Maze Runner</td>\n",
       "      <td>Dylan OBrien,Will Poutler,Thomas Brodie-Sangster</td>\n",
       "      <td>Patricia Clarkson</td>\n",
       "      <td>2014</td>\n",
       "      <td>Wes Ball</td>\n",
       "    </tr>\n",
       "    <tr>\n",
       "      <th>6</th>\n",
       "      <td>To All The Bright Places</td>\n",
       "      <td>Justice Smith</td>\n",
       "      <td>Elle Fanning</td>\n",
       "      <td>2020</td>\n",
       "      <td>Brett Haley</td>\n",
       "    </tr>\n",
       "    <tr>\n",
       "      <th>7</th>\n",
       "      <td>Marvel- Spider Man No Way Home</td>\n",
       "      <td>Tom Holland</td>\n",
       "      <td>Zendaya</td>\n",
       "      <td>2021</td>\n",
       "      <td>Jon Watts</td>\n",
       "    </tr>\n",
       "    <tr>\n",
       "      <th>8</th>\n",
       "      <td>Marvel- Shang-Chi and The Legend of The Ten Rings</td>\n",
       "      <td>Simu Liu</td>\n",
       "      <td>Awkwafina</td>\n",
       "      <td>2021</td>\n",
       "      <td>Destin Daniel Cretton</td>\n",
       "    </tr>\n",
       "    <tr>\n",
       "      <th>9</th>\n",
       "      <td>Red Notice</td>\n",
       "      <td>Ryan Reynolds, Dwayne Johnson</td>\n",
       "      <td>Gal Gadot</td>\n",
       "      <td>2021</td>\n",
       "      <td>Rawson Marshall Thurber</td>\n",
       "    </tr>\n",
       "  </tbody>\n",
       "</table>\n",
       "</div>"
      ],
      "text/plain": [
       "                                           movieName  \\\n",
       "0                               The Space Between Us   \n",
       "1                                           Moonshot   \n",
       "2                                             Vikram   \n",
       "3                                    Chemical Hearts   \n",
       "4                                      Black Panther   \n",
       "5                                    The Maze Runner   \n",
       "6                           To All The Bright Places   \n",
       "7                     Marvel- Spider Man No Way Home   \n",
       "8  Marvel- Shang-Chi and The Legend of The Ten Rings   \n",
       "9                                         Red Notice   \n",
       "\n",
       "                                          actorName        actressName  \\\n",
       "0                                   Asa Butterfield    Britt Robertson   \n",
       "1                                      Cole Sprouse        Lana Condor   \n",
       "2       Kamal Hassan, Fahad Fasil, Vijay Sethupathi                      \n",
       "3                                     Austin Abrams     Lilli Reinhart   \n",
       "4                                  Chadwick Boseman                      \n",
       "5  Dylan OBrien,Will Poutler,Thomas Brodie-Sangster  Patricia Clarkson   \n",
       "6                                     Justice Smith       Elle Fanning   \n",
       "7                                       Tom Holland            Zendaya   \n",
       "8                                          Simu Liu          Awkwafina   \n",
       "9                     Ryan Reynolds, Dwayne Johnson          Gal Gadot   \n",
       "\n",
       "   yearOfRelease              directorName  \n",
       "0           2017             Peter Chelsom  \n",
       "1           2022   Christopher Winterbauer  \n",
       "2           2022          Lokesh Kanagaraj  \n",
       "3           2020             Richard Tanne  \n",
       "4           2018              Ryan Coogler  \n",
       "5           2014                  Wes Ball  \n",
       "6           2020               Brett Haley  \n",
       "7           2021                 Jon Watts  \n",
       "8           2021     Destin Daniel Cretton  \n",
       "9           2021   Rawson Marshall Thurber  "
      ]
     },
     "execution_count": 22,
     "metadata": {},
     "output_type": "execute_result"
    }
   ],
   "source": [
    "query = ''' SELECT * FROM movies'''\n",
    "df = pd.read_sql_query(query, connection)\n",
    "df"
   ]
  },
  {
   "cell_type": "markdown",
   "id": "0ed16f01",
   "metadata": {},
   "source": [
    "#### Query-1: Sorting the movies table by yearOfRelease"
   ]
  },
  {
   "cell_type": "code",
   "execution_count": null,
   "id": "5d959c3f",
   "metadata": {},
   "outputs": [
    {
     "data": {
      "text/html": [
       "<div>\n",
       "<style scoped>\n",
       "    .dataframe tbody tr th:only-of-type {\n",
       "        vertical-align: middle;\n",
       "    }\n",
       "\n",
       "    .dataframe tbody tr th {\n",
       "        vertical-align: top;\n",
       "    }\n",
       "\n",
       "    .dataframe thead th {\n",
       "        text-align: right;\n",
       "    }\n",
       "</style>\n",
       "<table border=\"1\" class=\"dataframe\">\n",
       "  <thead>\n",
       "    <tr style=\"text-align: right;\">\n",
       "      <th></th>\n",
       "      <th>movieName</th>\n",
       "      <th>actorName</th>\n",
       "      <th>actressName</th>\n",
       "      <th>yearOfRelease</th>\n",
       "      <th>directorName</th>\n",
       "    </tr>\n",
       "  </thead>\n",
       "  <tbody>\n",
       "    <tr>\n",
       "      <th>0</th>\n",
       "      <td>Moonshot</td>\n",
       "      <td>Cole Sprouse</td>\n",
       "      <td>Lana Condor</td>\n",
       "      <td>2022</td>\n",
       "      <td>Christopher Winterbauer</td>\n",
       "    </tr>\n",
       "    <tr>\n",
       "      <th>1</th>\n",
       "      <td>Vikram</td>\n",
       "      <td>Kamal Hassan, Fahad Fasil, Vijay Sethupathi</td>\n",
       "      <td></td>\n",
       "      <td>2022</td>\n",
       "      <td>Lokesh Kanagaraj</td>\n",
       "    </tr>\n",
       "    <tr>\n",
       "      <th>2</th>\n",
       "      <td>Marvel- Spider Man No Way Home</td>\n",
       "      <td>Tom Holland</td>\n",
       "      <td>Zendaya</td>\n",
       "      <td>2021</td>\n",
       "      <td>Jon Watts</td>\n",
       "    </tr>\n",
       "    <tr>\n",
       "      <th>3</th>\n",
       "      <td>Marvel- Shang-Chi and The Legend of The Ten Rings</td>\n",
       "      <td>Simu Liu</td>\n",
       "      <td>Awkwafina</td>\n",
       "      <td>2021</td>\n",
       "      <td>Destin Daniel Cretton</td>\n",
       "    </tr>\n",
       "    <tr>\n",
       "      <th>4</th>\n",
       "      <td>Red Notice</td>\n",
       "      <td>Ryan Reynolds, Dwayne Johnson</td>\n",
       "      <td>Gal Gadot</td>\n",
       "      <td>2021</td>\n",
       "      <td>Rawson Marshall Thurber</td>\n",
       "    </tr>\n",
       "    <tr>\n",
       "      <th>5</th>\n",
       "      <td>Chemical Hearts</td>\n",
       "      <td>Austin Abrams</td>\n",
       "      <td>Lilli Reinhart</td>\n",
       "      <td>2020</td>\n",
       "      <td>Richard Tanne</td>\n",
       "    </tr>\n",
       "    <tr>\n",
       "      <th>6</th>\n",
       "      <td>To All The Bright Places</td>\n",
       "      <td>Justice Smith</td>\n",
       "      <td>Elle Fanning</td>\n",
       "      <td>2020</td>\n",
       "      <td>Brett Haley</td>\n",
       "    </tr>\n",
       "    <tr>\n",
       "      <th>7</th>\n",
       "      <td>Black Panther</td>\n",
       "      <td>Chadwick Boseman</td>\n",
       "      <td></td>\n",
       "      <td>2018</td>\n",
       "      <td>Ryan Coogler</td>\n",
       "    </tr>\n",
       "    <tr>\n",
       "      <th>8</th>\n",
       "      <td>The Space Between Us</td>\n",
       "      <td>Asa Butterfield</td>\n",
       "      <td>Britt Robertson</td>\n",
       "      <td>2017</td>\n",
       "      <td>Peter Chelsom</td>\n",
       "    </tr>\n",
       "    <tr>\n",
       "      <th>9</th>\n",
       "      <td>The Maze Runner</td>\n",
       "      <td>Dylan OBrien,Will Poutler,Thomas Brodie-Sangster</td>\n",
       "      <td>Patricia Clarkson</td>\n",
       "      <td>2014</td>\n",
       "      <td>Wes Ball</td>\n",
       "    </tr>\n",
       "  </tbody>\n",
       "</table>\n",
       "</div>"
      ],
      "text/plain": [
       "                                           movieName  \\\n",
       "0                                           Moonshot   \n",
       "1                                             Vikram   \n",
       "2                     Marvel- Spider Man No Way Home   \n",
       "3  Marvel- Shang-Chi and The Legend of The Ten Rings   \n",
       "4                                         Red Notice   \n",
       "5                                    Chemical Hearts   \n",
       "6                           To All The Bright Places   \n",
       "7                                      Black Panther   \n",
       "8                               The Space Between Us   \n",
       "9                                    The Maze Runner   \n",
       "\n",
       "                                          actorName        actressName  \\\n",
       "0                                      Cole Sprouse        Lana Condor   \n",
       "1       Kamal Hassan, Fahad Fasil, Vijay Sethupathi                      \n",
       "2                                       Tom Holland            Zendaya   \n",
       "3                                          Simu Liu          Awkwafina   \n",
       "4                     Ryan Reynolds, Dwayne Johnson          Gal Gadot   \n",
       "5                                     Austin Abrams     Lilli Reinhart   \n",
       "6                                     Justice Smith       Elle Fanning   \n",
       "7                                  Chadwick Boseman                      \n",
       "8                                   Asa Butterfield    Britt Robertson   \n",
       "9  Dylan OBrien,Will Poutler,Thomas Brodie-Sangster  Patricia Clarkson   \n",
       "\n",
       "   yearOfRelease              directorName  \n",
       "0           2022   Christopher Winterbauer  \n",
       "1           2022          Lokesh Kanagaraj  \n",
       "2           2021                 Jon Watts  \n",
       "3           2021     Destin Daniel Cretton  \n",
       "4           2021   Rawson Marshall Thurber  \n",
       "5           2020             Richard Tanne  \n",
       "6           2020               Brett Haley  \n",
       "7           2018              Ryan Coogler  \n",
       "8           2017             Peter Chelsom  \n",
       "9           2014                  Wes Ball  "
      ]
     },
     "execution_count": 23,
     "metadata": {},
     "output_type": "execute_result"
    }
   ],
   "source": [
    "query1 = ''' SELECT * FROM movies ORDER BY \n",
    "    yearOfRelease DESC'''\n",
    "df = pd.read_sql_query(query1, connection)\n",
    "df"
   ]
  },
  {
   "cell_type": "markdown",
   "id": "7618924b",
   "metadata": {},
   "source": [
    "#### Query-2: Updating the movies table by yearOfRelease"
   ]
  },
  {
   "cell_type": "code",
   "execution_count": null,
   "id": "eab6a968",
   "metadata": {},
   "outputs": [
    {
     "data": {
      "text/html": [
       "<div>\n",
       "<style scoped>\n",
       "    .dataframe tbody tr th:only-of-type {\n",
       "        vertical-align: middle;\n",
       "    }\n",
       "\n",
       "    .dataframe tbody tr th {\n",
       "        vertical-align: top;\n",
       "    }\n",
       "\n",
       "    .dataframe thead th {\n",
       "        text-align: right;\n",
       "    }\n",
       "</style>\n",
       "<table border=\"1\" class=\"dataframe\">\n",
       "  <thead>\n",
       "    <tr style=\"text-align: right;\">\n",
       "      <th></th>\n",
       "      <th>moiveName</th>\n",
       "      <th>actorName</th>\n",
       "      <th>actressName</th>\n",
       "      <th>yearOfRelease</th>\n",
       "      <th>directorName</th>\n",
       "    </tr>\n",
       "  </thead>\n",
       "  <tbody>\n",
       "    <tr>\n",
       "      <th>0</th>\n",
       "      <td>The Space Between Us</td>\n",
       "      <td>Asa Butterfield</td>\n",
       "      <td>Britt Robertson</td>\n",
       "      <td>2017</td>\n",
       "      <td>Peter Chelsom</td>\n",
       "    </tr>\n",
       "    <tr>\n",
       "      <th>1</th>\n",
       "      <td>Moonshot</td>\n",
       "      <td>Cole Sprouse</td>\n",
       "      <td>Lana Condor</td>\n",
       "      <td>2022</td>\n",
       "      <td>Christopher Winterbauer</td>\n",
       "    </tr>\n",
       "    <tr>\n",
       "      <th>2</th>\n",
       "      <td>Vikram</td>\n",
       "      <td>Kamal Hassan, Fahad Fasil, Vijay Sethupathi</td>\n",
       "      <td></td>\n",
       "      <td>2022</td>\n",
       "      <td>Lokesh Kanagaraj</td>\n",
       "    </tr>\n",
       "    <tr>\n",
       "      <th>3</th>\n",
       "      <td>Chemical Hearts</td>\n",
       "      <td>Austin Abrams</td>\n",
       "      <td>Lilli Reinhart</td>\n",
       "      <td>2020</td>\n",
       "      <td>Richard Tanne</td>\n",
       "    </tr>\n",
       "    <tr>\n",
       "      <th>4</th>\n",
       "      <td>Black Panther</td>\n",
       "      <td>Chadwick Boseman</td>\n",
       "      <td></td>\n",
       "      <td>2018</td>\n",
       "      <td>Ryan Coogler</td>\n",
       "    </tr>\n",
       "    <tr>\n",
       "      <th>5</th>\n",
       "      <td>The Maze Runner</td>\n",
       "      <td>Dylan OBrien,Will Poutler,Thomas Brodie-Sangster</td>\n",
       "      <td>Patricia Clarkson</td>\n",
       "      <td>2014</td>\n",
       "      <td>Wes Ball</td>\n",
       "    </tr>\n",
       "    <tr>\n",
       "      <th>6</th>\n",
       "      <td>To All The Bright Places</td>\n",
       "      <td>Justice Smith</td>\n",
       "      <td>Elle Fanning</td>\n",
       "      <td>2020</td>\n",
       "      <td>Brett Haley</td>\n",
       "    </tr>\n",
       "    <tr>\n",
       "      <th>7</th>\n",
       "      <td>Marvel- Spider Man No Way Home</td>\n",
       "      <td>Tom Holland</td>\n",
       "      <td>Zendaya</td>\n",
       "      <td>2021</td>\n",
       "      <td>Jon Watts</td>\n",
       "    </tr>\n",
       "    <tr>\n",
       "      <th>8</th>\n",
       "      <td>Marvel- Shang-Chi and The Legend of The Ten Rings</td>\n",
       "      <td>Simu Liu</td>\n",
       "      <td>Awkwafina</td>\n",
       "      <td>2021</td>\n",
       "      <td>Destin Daniel Cretton</td>\n",
       "    </tr>\n",
       "    <tr>\n",
       "      <th>9</th>\n",
       "      <td>Red Notice</td>\n",
       "      <td>Ryan Reynolds, Dwayne Johnson</td>\n",
       "      <td>Gal Gadot</td>\n",
       "      <td>2021</td>\n",
       "      <td>Rawson Marshall Thurber</td>\n",
       "    </tr>\n",
       "  </tbody>\n",
       "</table>\n",
       "</div>"
      ],
      "text/plain": [
       "                                           moiveName  \\\n",
       "0                               The Space Between Us   \n",
       "1                                           Moonshot   \n",
       "2                                             Vikram   \n",
       "3                                    Chemical Hearts   \n",
       "4                                      Black Panther   \n",
       "5                                    The Maze Runner   \n",
       "6                           To All The Bright Places   \n",
       "7                     Marvel- Spider Man No Way Home   \n",
       "8  Marvel- Shang-Chi and The Legend of The Ten Rings   \n",
       "9                                         Red Notice   \n",
       "\n",
       "                                          actorName        actressName  \\\n",
       "0                                   Asa Butterfield    Britt Robertson   \n",
       "1                                      Cole Sprouse        Lana Condor   \n",
       "2       Kamal Hassan, Fahad Fasil, Vijay Sethupathi                      \n",
       "3                                     Austin Abrams     Lilli Reinhart   \n",
       "4                                  Chadwick Boseman                      \n",
       "5  Dylan OBrien,Will Poutler,Thomas Brodie-Sangster  Patricia Clarkson   \n",
       "6                                     Justice Smith       Elle Fanning   \n",
       "7                                       Tom Holland            Zendaya   \n",
       "8                                          Simu Liu          Awkwafina   \n",
       "9                     Ryan Reynolds, Dwayne Johnson          Gal Gadot   \n",
       "\n",
       "   yearOfRelease              directorName  \n",
       "0           2017             Peter Chelsom  \n",
       "1           2022   Christopher Winterbauer  \n",
       "2           2022          Lokesh Kanagaraj  \n",
       "3           2020             Richard Tanne  \n",
       "4           2018              Ryan Coogler  \n",
       "5           2014                  Wes Ball  \n",
       "6           2020               Brett Haley  \n",
       "7           2021                 Jon Watts  \n",
       "8           2021     Destin Daniel Cretton  \n",
       "9           2021   Rawson Marshall Thurber  "
      ]
     },
     "execution_count": 12,
     "metadata": {},
     "output_type": "execute_result"
    }
   ],
   "source": [
    "cursor.execute('''UPDATE movies SET yearOfRelease = 2022 WHERE directorName == 'Christopher Winterbauer' ''')\n",
    "df = pd.read_sql_query(\"SELECT * FROM movies\", connection)\n",
    "df"
   ]
  },
  {
   "cell_type": "markdown",
   "id": "a464b4ed",
   "metadata": {},
   "source": [
    "#### Query-3: Selecting the movies which has yearOfRelease <= 2020"
   ]
  },
  {
   "cell_type": "code",
   "execution_count": null,
   "id": "3e66344d",
   "metadata": {},
   "outputs": [
    {
     "data": {
      "text/html": [
       "<div>\n",
       "<style scoped>\n",
       "    .dataframe tbody tr th:only-of-type {\n",
       "        vertical-align: middle;\n",
       "    }\n",
       "\n",
       "    .dataframe tbody tr th {\n",
       "        vertical-align: top;\n",
       "    }\n",
       "\n",
       "    .dataframe thead th {\n",
       "        text-align: right;\n",
       "    }\n",
       "</style>\n",
       "<table border=\"1\" class=\"dataframe\">\n",
       "  <thead>\n",
       "    <tr style=\"text-align: right;\">\n",
       "      <th></th>\n",
       "      <th>movieName</th>\n",
       "      <th>actorName</th>\n",
       "      <th>actressName</th>\n",
       "      <th>yearOfRelease</th>\n",
       "      <th>directorName</th>\n",
       "    </tr>\n",
       "  </thead>\n",
       "  <tbody>\n",
       "    <tr>\n",
       "      <th>0</th>\n",
       "      <td>The Space Between Us</td>\n",
       "      <td>Asa Butterfield</td>\n",
       "      <td>Britt Robertson</td>\n",
       "      <td>2017</td>\n",
       "      <td>Peter Chelsom</td>\n",
       "    </tr>\n",
       "    <tr>\n",
       "      <th>1</th>\n",
       "      <td>Black Panther</td>\n",
       "      <td>Chadwick Boseman</td>\n",
       "      <td></td>\n",
       "      <td>2018</td>\n",
       "      <td>Ryan Coogler</td>\n",
       "    </tr>\n",
       "    <tr>\n",
       "      <th>2</th>\n",
       "      <td>The Maze Runner</td>\n",
       "      <td>Dylan OBrien,Will Poutler,Thomas Brodie-Sangster</td>\n",
       "      <td>Patricia Clarkson</td>\n",
       "      <td>2014</td>\n",
       "      <td>Wes Ball</td>\n",
       "    </tr>\n",
       "  </tbody>\n",
       "</table>\n",
       "</div>"
      ],
      "text/plain": [
       "              movieName                                         actorName  \\\n",
       "0  The Space Between Us                                   Asa Butterfield   \n",
       "1         Black Panther                                  Chadwick Boseman   \n",
       "2       The Maze Runner  Dylan OBrien,Will Poutler,Thomas Brodie-Sangster   \n",
       "\n",
       "         actressName  yearOfRelease   directorName  \n",
       "0    Britt Robertson           2017  Peter Chelsom  \n",
       "1                              2018   Ryan Coogler  \n",
       "2  Patricia Clarkson           2014       Wes Ball  "
      ]
     },
     "execution_count": 24,
     "metadata": {},
     "output_type": "execute_result"
    }
   ],
   "source": [
    "query3 = ''' SELECT * FROM movies WHERE yearOfRelease <= 2019'''\n",
    "df = pd.read_sql_query(query3, connection)\n",
    "df"
   ]
  },
  {
   "cell_type": "markdown",
   "id": "9fe8215d",
   "metadata": {},
   "source": [
    "#### Query-4: Selecting the movies which has No Actor or Actress Name"
   ]
  },
  {
   "cell_type": "code",
   "execution_count": null,
   "id": "8c822818",
   "metadata": {},
   "outputs": [
    {
     "data": {
      "text/html": [
       "<div>\n",
       "<style scoped>\n",
       "    .dataframe tbody tr th:only-of-type {\n",
       "        vertical-align: middle;\n",
       "    }\n",
       "\n",
       "    .dataframe tbody tr th {\n",
       "        vertical-align: top;\n",
       "    }\n",
       "\n",
       "    .dataframe thead th {\n",
       "        text-align: right;\n",
       "    }\n",
       "</style>\n",
       "<table border=\"1\" class=\"dataframe\">\n",
       "  <thead>\n",
       "    <tr style=\"text-align: right;\">\n",
       "      <th></th>\n",
       "      <th>movieName</th>\n",
       "      <th>actorName</th>\n",
       "      <th>actressName</th>\n",
       "      <th>yearOfRelease</th>\n",
       "      <th>directorName</th>\n",
       "    </tr>\n",
       "  </thead>\n",
       "  <tbody>\n",
       "    <tr>\n",
       "      <th>0</th>\n",
       "      <td>Vikram</td>\n",
       "      <td>Kamal Hassan, Fahad Fasil, Vijay Sethupathi</td>\n",
       "      <td></td>\n",
       "      <td>2022</td>\n",
       "      <td>Lokesh Kanagaraj</td>\n",
       "    </tr>\n",
       "    <tr>\n",
       "      <th>1</th>\n",
       "      <td>Black Panther</td>\n",
       "      <td>Chadwick Boseman</td>\n",
       "      <td></td>\n",
       "      <td>2018</td>\n",
       "      <td>Ryan Coogler</td>\n",
       "    </tr>\n",
       "  </tbody>\n",
       "</table>\n",
       "</div>"
      ],
      "text/plain": [
       "       movieName                                    actorName actressName  \\\n",
       "0         Vikram  Kamal Hassan, Fahad Fasil, Vijay Sethupathi               \n",
       "1  Black Panther                             Chadwick Boseman               \n",
       "\n",
       "   yearOfRelease      directorName  \n",
       "0           2022  Lokesh Kanagaraj  \n",
       "1           2018      Ryan Coogler  "
      ]
     },
     "execution_count": 25,
     "metadata": {},
     "output_type": "execute_result"
    }
   ],
   "source": [
    "query4 = ''' SELECT * FROM movies WHERE actorName ='' OR actressName =''  '''\n",
    "df = pd.read_sql_query(query4, connection)\n",
    "df"
   ]
  },
  {
   "cell_type": "markdown",
   "id": "f32d14b5",
   "metadata": {},
   "source": [
    "#### Query-5: Selecting a movie with specific director name"
   ]
  },
  {
   "cell_type": "code",
   "execution_count": null,
   "id": "5c39f97d",
   "metadata": {},
   "outputs": [
    {
     "data": {
      "text/html": [
       "<div>\n",
       "<style scoped>\n",
       "    .dataframe tbody tr th:only-of-type {\n",
       "        vertical-align: middle;\n",
       "    }\n",
       "\n",
       "    .dataframe tbody tr th {\n",
       "        vertical-align: top;\n",
       "    }\n",
       "\n",
       "    .dataframe thead th {\n",
       "        text-align: right;\n",
       "    }\n",
       "</style>\n",
       "<table border=\"1\" class=\"dataframe\">\n",
       "  <thead>\n",
       "    <tr style=\"text-align: right;\">\n",
       "      <th></th>\n",
       "      <th>movieName</th>\n",
       "      <th>actorName</th>\n",
       "      <th>actressName</th>\n",
       "      <th>yearOfRelease</th>\n",
       "      <th>directorName</th>\n",
       "    </tr>\n",
       "  </thead>\n",
       "  <tbody>\n",
       "    <tr>\n",
       "      <th>0</th>\n",
       "      <td>The Maze Runner</td>\n",
       "      <td>Dylan OBrien,Will Poutler,Thomas Brodie-Sangster</td>\n",
       "      <td>Patricia Clarkson</td>\n",
       "      <td>2014</td>\n",
       "      <td>Wes Ball</td>\n",
       "    </tr>\n",
       "  </tbody>\n",
       "</table>\n",
       "</div>"
      ],
      "text/plain": [
       "         movieName                                         actorName  \\\n",
       "0  The Maze Runner  Dylan OBrien,Will Poutler,Thomas Brodie-Sangster   \n",
       "\n",
       "         actressName  yearOfRelease directorName  \n",
       "0  Patricia Clarkson           2014     Wes Ball  "
      ]
     },
     "execution_count": 27,
     "metadata": {},
     "output_type": "execute_result"
    }
   ],
   "source": [
    "query5 = ''' SELECT * FROM movies WHERE directorName == 'Wes Ball' '''\n",
    "df = pd.read_sql_query(query5, connection)\n",
    "df"
   ]
  },
  {
   "cell_type": "markdown",
   "id": "3a6809df",
   "metadata": {},
   "source": [
    "#### Query-6: Deleting the movie  \"Black Panther\""
   ]
  },
  {
   "cell_type": "code",
   "execution_count": 34,
   "id": "1e2251d0",
   "metadata": {},
   "outputs": [
    {
     "data": {
      "text/html": [
       "<div>\n",
       "<style scoped>\n",
       "    .dataframe tbody tr th:only-of-type {\n",
       "        vertical-align: middle;\n",
       "    }\n",
       "\n",
       "    .dataframe tbody tr th {\n",
       "        vertical-align: top;\n",
       "    }\n",
       "\n",
       "    .dataframe thead th {\n",
       "        text-align: right;\n",
       "    }\n",
       "</style>\n",
       "<table border=\"1\" class=\"dataframe\">\n",
       "  <thead>\n",
       "    <tr style=\"text-align: right;\">\n",
       "      <th></th>\n",
       "      <th>movieName</th>\n",
       "      <th>actorName</th>\n",
       "      <th>actressName</th>\n",
       "      <th>yearOfRelease</th>\n",
       "      <th>directorName</th>\n",
       "    </tr>\n",
       "  </thead>\n",
       "  <tbody>\n",
       "  </tbody>\n",
       "</table>\n",
       "</div>"
      ],
      "text/plain": [
       "Empty DataFrame\n",
       "Columns: [movieName, actorName, actressName, yearOfRelease, directorName]\n",
       "Index: []"
      ]
     },
     "execution_count": 34,
     "metadata": {},
     "output_type": "execute_result"
    }
   ],
   "source": [
    "cursor.execute('''DELETE FROM movies WHERE movieName == 'Black Panther' ''')\n",
    "df = pd.read_sql_query(\"SELECT * FROM movies\", connection)\n",
    "df"
   ]
  }
 ],
 "metadata": {
  "kernelspec": {
   "display_name": "Python 3.8.11 ('Python')",
   "language": "python",
   "name": "python3"
  },
  "language_info": {
   "codemirror_mode": {
    "name": "ipython",
    "version": 3
   },
   "file_extension": ".py",
   "mimetype": "text/x-python",
   "name": "python",
   "nbconvert_exporter": "python",
   "pygments_lexer": "ipython3",
   "version": "3.8.11"
  },
  "vscode": {
   "interpreter": {
    "hash": "d3fd733629005e85e124ce54f0f31cc5b9ca2192f4249b9ec994b62742789557"
   }
  }
 },
 "nbformat": 4,
 "nbformat_minor": 5
}
